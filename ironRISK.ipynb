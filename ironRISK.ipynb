{
 "cells": [
  {
   "cell_type": "code",
   "execution_count": 13,
   "metadata": {},
   "outputs": [],
   "source": [
    "import random\n",
    "import pandas as pd"
   ]
  },
  {
   "cell_type": "code",
   "execution_count": 25,
   "metadata": {},
   "outputs": [],
   "source": [
    "paises = [\n",
    "    {'Nombre':'Alaska','Continente':'América del norte', 'Fronteras':['Alberta', 'Noreste'], 'Tropas':1, 'Dueño':'John Doe'},\n",
    "    {'Nombre':'Alberta','Continente':'América del norte', 'Fronteras':['Alaska', 'Noreste','Ontario', 'Oeste'], 'Tropas':1, 'Dueño':'John Doe'},\n",
    "    {'Nombre':'Mexico','Continente':'América del norte', 'Fronteras':['Sureste','Oeste'], 'Tropas':1, 'Dueño':'John Doe'},\n",
    "    {'Nombre':'Sureste','Continente':'América del norte', 'Fronteras':['Mexico', 'Ontario','Quebec','Oeste'], 'Tropas':1, 'Dueño':'John Doe'},\n",
    "    {'Nombre':'Groelandia','Continente':'América del norte', 'Fronteras':['Noreste','Ontario', 'Quebec'], 'Tropas':1, 'Dueño':'John Doe'},\n",
    "    {'Nombre':'Noreste','Continente':'América del norte', 'Fronteras':['Alaska', 'Alberta', 'Groelandia', 'Ontario'], 'Tropas':1, 'Dueño':'John Doe'},\n",
    "    {'Nombre':'Ontario','Continente':'América del norte', 'Fronteras':['Noreste','Alberta', 'Oeste','Sureste','Quebec','Groelandia'], 'Tropas':1, 'Dueño':'John Doe'},\n",
    "    {'Nombre':'Quebec','Continente':'América del norte', 'Fronteras':['Sureste', 'Groelandia','Ontario'], 'Tropas':1, 'Dueño':'John Doe'},\n",
    "    {'Nombre':'Oeste','Continente':'América del norte', 'Fronteras':['Alberta', 'Mexico', 'Sureste','Ontario'], 'Tropas':1, 'Dueño':'John Doe'}\n",
    "]\n"
   ]
  },
  {
   "cell_type": "code",
   "execution_count": 26,
   "metadata": {},
   "outputs": [],
   "source": [
    "def Pais_R(paises):\n",
    "    return random.sample(paises, 9)\n",
    "    "
   ]
  },
  {
   "cell_type": "code",
   "execution_count": 27,
   "metadata": {},
   "outputs": [
    {
     "name": "stdout",
     "output_type": "stream",
     "text": [
      "[{'Nombre': 'Noreste', 'Continente': 'América del norte', 'Fronteras': ['Alaska', 'Alberta', 'Groelandia', 'Ontario'], 'Tropas': 1, 'Dueño': 'John Doe'}, {'Nombre': 'Ontario', 'Continente': 'América del norte', 'Fronteras': ['Noreste', 'Alberta', 'Oeste', 'Sureste', 'Quebec', 'Groelandia'], 'Tropas': 1, 'Dueño': 'John Doe'}, {'Nombre': 'Mexico', 'Continente': 'América del norte', 'Fronteras': ['Sureste', 'Oeste'], 'Tropas': 1, 'Dueño': 'John Doe'}, {'Nombre': 'Groelandia', 'Continente': 'América del norte', 'Fronteras': ['Noreste', 'Ontario', 'Quebec'], 'Tropas': 1, 'Dueño': 'John Doe'}, {'Nombre': 'Alaska', 'Continente': 'América del norte', 'Fronteras': ['Alberta', 'Noreste'], 'Tropas': 1, 'Dueño': 'John Doe'}, {'Nombre': 'Alberta', 'Continente': 'América del norte', 'Fronteras': ['Alaska', 'Noreste', 'Ontario', 'Oeste'], 'Tropas': 1, 'Dueño': 'John Doe'}, {'Nombre': 'Sureste', 'Continente': 'América del norte', 'Fronteras': ['Mexico', 'Ontario', 'Quebec', 'Oeste'], 'Tropas': 1, 'Dueño': 'John Doe'}, {'Nombre': 'Quebec', 'Continente': 'América del norte', 'Fronteras': ['Sureste', 'Groelandia', 'Ontario'], 'Tropas': 1, 'Dueño': 'John Doe'}, {'Nombre': 'Oeste', 'Continente': 'América del norte', 'Fronteras': ['Alberta', 'Mexico', 'Sureste', 'Ontario'], 'Tropas': 1, 'Dueño': 'John Doe'}]\n"
     ]
    }
   ],
   "source": [
    "sorteo = Pais_R(paises)\n",
    "print(sorteo)"
   ]
  },
  {
   "cell_type": "code",
   "execution_count": 28,
   "metadata": {},
   "outputs": [],
   "source": [
    "rango = len(data)//3\n",
    "paises_jugador1 = sorteo[:rango]\n",
    "paises_jugador2 = sorteo[rango:rango+rango]\n",
    "paises_neutral = sorteo[rango+rango:]"
   ]
  },
  {
   "cell_type": "code",
   "execution_count": 42,
   "metadata": {},
   "outputs": [
    {
     "name": "stdout",
     "output_type": "stream",
     "text": [
      "dict_keys(['Nombre', 'Continente', 'Fronteras', 'Tropas', 'Dueño'])\n",
      "dict_keys(['Nombre', 'Continente', 'Fronteras', 'Tropas', 'Dueño'])\n",
      "dict_keys(['Nombre', 'Continente', 'Fronteras', 'Tropas', 'Dueño'])\n"
     ]
    }
   ],
   "source": []
  },
  {
   "cell_type": "code",
   "execution_count": 70,
   "metadata": {},
   "outputs": [],
   "source": [
    "tropas_jugador1 = 15\n",
    "tropas_jugador2 = 15\n",
    "tropas_neutrales = 15"
   ]
  },
  {
   "cell_type": "code",
   "execution_count": 67,
   "metadata": {},
   "outputs": [],
   "source": [
    "def acomodacion(paisesjugadores, tropas_jugador):\n",
    "    print(\"hola, dime cuantas tropas quieres para tus territorios debes de colocar de 1 a 5 tropas por territorio\")\n",
    "    print(f\"tienes disponibles {tropas_jugador} tropas, las que no uses serán de reserva\")\n",
    "\n",
    "    for diccionario in paises_jugador1:\n",
    "        while True:\n",
    "            print(diccionario.get('Nombre'))\n",
    "            total = int(input( ))\n",
    "            if total>=1 and total<=5:\n",
    "                diccionario['Tropas'] = total\n",
    "                tropas_jugador= tropas_jugador - total\n",
    "                break\n",
    "            else:\n",
    "                continue\n",
    "    print(f'tienes {tropas_jugador} de reserva')\n"
   ]
  },
  {
   "cell_type": "code",
   "execution_count": 69,
   "metadata": {},
   "outputs": [
    {
     "name": "stdout",
     "output_type": "stream",
     "text": [
      "hola, dime cuantas tropas quieres para tus territorios debes de colocar de 1 a 5 tropas por territorio\n",
      "tienes disponibles 15 tropas, las que no uses serán de reserva\n",
      "Noreste\n"
     ]
    },
    {
     "name": "stdin",
     "output_type": "stream",
     "text": [
      " 5\n"
     ]
    },
    {
     "name": "stdout",
     "output_type": "stream",
     "text": [
      "Ontario\n"
     ]
    },
    {
     "name": "stdin",
     "output_type": "stream",
     "text": [
      " 5\n"
     ]
    },
    {
     "name": "stdout",
     "output_type": "stream",
     "text": [
      "Mexico\n"
     ]
    },
    {
     "name": "stdin",
     "output_type": "stream",
     "text": [
      " 5\n"
     ]
    },
    {
     "name": "stdout",
     "output_type": "stream",
     "text": [
      "tienes 0 de reserva\n"
     ]
    }
   ],
   "source": [
    "acomodacion(paises_jugador1, tropas_jugador1)"
   ]
  },
  {
   "cell_type": "code",
   "execution_count": 23,
   "metadata": {},
   "outputs": [],
   "source": []
  },
  {
   "cell_type": "code",
   "execution_count": 24,
   "metadata": {},
   "outputs": [
    {
     "name": "stdout",
     "output_type": "stream",
     "text": [
      "Quebec\n",
      "Oeste\n",
      "Mexico\n"
     ]
    }
   ],
   "source": []
  },
  {
   "cell_type": "code",
   "execution_count": null,
   "metadata": {},
   "outputs": [],
   "source": []
  }
 ],
 "metadata": {
  "kernelspec": {
   "display_name": "Python 3",
   "language": "python",
   "name": "python3"
  },
  "language_info": {
   "codemirror_mode": {
    "name": "ipython",
    "version": 3
   },
   "file_extension": ".py",
   "mimetype": "text/x-python",
   "name": "python",
   "nbconvert_exporter": "python",
   "pygments_lexer": "ipython3",
   "version": "3.7.0"
  }
 },
 "nbformat": 4,
 "nbformat_minor": 2
}
