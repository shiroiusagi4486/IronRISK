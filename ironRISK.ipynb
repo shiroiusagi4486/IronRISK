{
 "cells": [
  {
   "cell_type": "code",
   "execution_count": 21,
   "metadata": {},
   "outputs": [],
   "source": [
    "import random"
   ]
  },
  {
   "cell_type": "code",
   "execution_count": 22,
   "metadata": {},
   "outputs": [],
   "source": [
    "paises = ['Alaska', 'Alberta', 'Mexico', 'Sureste', 'Groelandia', 'Noreste', 'Ontario', 'Quebec','Oeste']\n",
    "jugador1 = []\n",
    "jugador2 = []\n",
    "neutral = []"
   ]
  },
  {
   "cell_type": "code",
   "execution_count": 23,
   "metadata": {},
   "outputs": [],
   "source": [
    "def Pais_R(paises):\n",
    "    return random.sample(paises, 9)\n",
    "    "
   ]
  },
  {
   "cell_type": "code",
   "execution_count": 24,
   "metadata": {},
   "outputs": [
    {
     "name": "stdout",
     "output_type": "stream",
     "text": [
      "['Alaska', 'Mexico', 'Sureste', 'Quebec', 'Groelandia', 'Alberta', 'Noreste', 'Ontario', 'Oeste']\n"
     ]
    }
   ],
   "source": [
    "sorteo = Pais_R(paises)\n",
    "print(sorteo)"
   ]
  },
  {
   "cell_type": "code",
   "execution_count": 47,
   "metadata": {},
   "outputs": [
    {
     "name": "stdout",
     "output_type": "stream",
     "text": [
      "['Alaska', 'Mexico', 'Sureste'] ['Quebec', 'Groelandia', 'Alberta'] ['Noreste', 'Ontario', 'Oeste']\n"
     ]
    }
   ],
   "source": [
    "paises_jugador1 = sorteo[:3]\n",
    "paises_jugador2 = sorteo[3:6]\n",
    "paises_neutral = sorteo[6:]\n",
    "\n",
    "print(jugador1, jugador2, neutral)"
   ]
  },
  {
   "cell_type": "code",
   "execution_count": 48,
   "metadata": {},
   "outputs": [
    {
     "name": "stdout",
     "output_type": "stream",
     "text": [
      "{'Alaska': ['Alberta', 'Noreste'], 'Alberta': ['Alaska', 'Noreste', 'Ontario', 'Oeste'], 'Mexico': ['Sureste', 'Oeste'], 'Sureste': ['Mexico', 'Ontario', 'Quebec', 'Oeste'], 'Groelandia': ['Noreste', 'Ontario', 'Quebec'], 'Noreste': ['Alaska', 'Alberta', 'Groelandia', 'Ontario'], 'Ontario': ['Alberta', 'Sureste', 'Groelandia', 'Noreste', 'Quebec', 'Oeste'], 'Quebec': ['Sureste', 'Groelandia', 'Ontario'], 'Oeste': ['Alberta', 'Mexico', 'Sureste', 'Ontario']}\n"
     ]
    }
   ],
   "source": [
    "fronteras = {\n",
    "    paises[0]: [paises[1], paises[5]],\n",
    "    paises[1]: [paises[0], paises[5], paises[6], paises[8]],\n",
    "    paises[2]: [paises[3], paises[8]],\n",
    "    paises[3]: [paises[2], paises[6], paises[7], paises[8]],\n",
    "    paises[4]: [paises[5], paises[6], paises[7]],\n",
    "    paises[5]: [paises[0], paises[1], paises[4], paises[6]],\n",
    "    paises[6]: [paises[1], paises[3], paises[4], paises[5], paises[7], paises[8]],\n",
    "    paises[7]: [paises[3], paises[4], paises[6]],\n",
    "    paises[8]: [paises[1], paises[2], paises[3], paises[6]]\n",
    "}\n",
    "print(fronteras)"
   ]
  },
  {
   "cell_type": "code",
   "execution_count": 49,
   "metadata": {},
   "outputs": [],
   "source": [
    "tropas_jugador1 = 15\n",
    "tropas_jugador2 = 15\n",
    "tropas_neutrales = 12"
   ]
  },
  {
   "cell_type": "code",
   "execution_count": null,
   "metadata": {},
   "outputs": [],
   "source": []
  },
  {
   "cell_type": "code",
   "execution_count": 58,
   "metadata": {},
   "outputs": [
    {
     "ename": "TypeError",
     "evalue": "raw_input() takes from 1 to 2 positional arguments but 3 were given",
     "output_type": "error",
     "traceback": [
      "\u001b[0;31m---------------------------------------------------------------------------\u001b[0m",
      "\u001b[0;31mTypeError\u001b[0m                                 Traceback (most recent call last)",
      "\u001b[0;32m<ipython-input-58-12fca9c2f20f>\u001b[0m in \u001b[0;36m<module>\u001b[0;34m\u001b[0m\n\u001b[1;32m     16\u001b[0m         \u001b[0mcantidad\u001b[0m \u001b[0;34m=\u001b[0m \u001b[0minput\u001b[0m\u001b[0;34m(\u001b[0m\u001b[0;34m\"¿Cuantas tropas quieres colocar en:\"\u001b[0m\u001b[0;34m,\u001b[0m \u001b[0mtropas_por_territorio\u001b[0m\u001b[0;34m.\u001b[0m\u001b[0mkeys\u001b[0m\u001b[0;34m(\u001b[0m\u001b[0;34m)\u001b[0m\u001b[0;34m)\u001b[0m\u001b[0;34m\u001b[0m\u001b[0;34m\u001b[0m\u001b[0m\n\u001b[1;32m     17\u001b[0m         \u001b[0mtropas_por_territorio\u001b[0m\u001b[0;34m[\u001b[0m\u001b[0mpaises\u001b[0m\u001b[0;34m[\u001b[0m\u001b[0mtropas\u001b[0m\u001b[0;34m]\u001b[0m\u001b[0;34m]\u001b[0m \u001b[0;34m=\u001b[0m \u001b[0mint\u001b[0m\u001b[0;34m(\u001b[0m\u001b[0mcantidad\u001b[0m\u001b[0;34m)\u001b[0m\u001b[0;34m\u001b[0m\u001b[0;34m\u001b[0m\u001b[0m\n\u001b[0;32m---> 18\u001b[0;31m \u001b[0mprint\u001b[0m\u001b[0;34m(\u001b[0m\u001b[0macomodacion_jugador1\u001b[0m\u001b[0;34m(\u001b[0m\u001b[0mtropas_por_territorio\u001b[0m\u001b[0;34m)\u001b[0m\u001b[0;34m)\u001b[0m\u001b[0;34m\u001b[0m\u001b[0;34m\u001b[0m\u001b[0m\n\u001b[0m",
      "\u001b[0;32m<ipython-input-58-12fca9c2f20f>\u001b[0m in \u001b[0;36macomodacion_jugador1\u001b[0;34m(tropas_por_territorio)\u001b[0m\n\u001b[1;32m     14\u001b[0m \u001b[0;34m\u001b[0m\u001b[0m\n\u001b[1;32m     15\u001b[0m     \u001b[0;32mfor\u001b[0m \u001b[0mx\u001b[0m \u001b[0;32min\u001b[0m \u001b[0mrange\u001b[0m\u001b[0;34m(\u001b[0m\u001b[0;36m0\u001b[0m\u001b[0;34m,\u001b[0m\u001b[0;36m3\u001b[0m\u001b[0;34m)\u001b[0m\u001b[0;34m:\u001b[0m\u001b[0;34m\u001b[0m\u001b[0;34m\u001b[0m\u001b[0m\n\u001b[0;32m---> 16\u001b[0;31m         \u001b[0mcantidad\u001b[0m \u001b[0;34m=\u001b[0m \u001b[0minput\u001b[0m\u001b[0;34m(\u001b[0m\u001b[0;34m\"¿Cuantas tropas quieres colocar en:\"\u001b[0m\u001b[0;34m,\u001b[0m \u001b[0mtropas_por_territorio\u001b[0m\u001b[0;34m.\u001b[0m\u001b[0mkeys\u001b[0m\u001b[0;34m(\u001b[0m\u001b[0;34m)\u001b[0m\u001b[0;34m)\u001b[0m\u001b[0;34m\u001b[0m\u001b[0;34m\u001b[0m\u001b[0m\n\u001b[0m\u001b[1;32m     17\u001b[0m         \u001b[0mtropas_por_territorio\u001b[0m\u001b[0;34m[\u001b[0m\u001b[0mpaises\u001b[0m\u001b[0;34m[\u001b[0m\u001b[0mtropas\u001b[0m\u001b[0;34m]\u001b[0m\u001b[0;34m]\u001b[0m \u001b[0;34m=\u001b[0m \u001b[0mint\u001b[0m\u001b[0;34m(\u001b[0m\u001b[0mcantidad\u001b[0m\u001b[0;34m)\u001b[0m\u001b[0;34m\u001b[0m\u001b[0;34m\u001b[0m\u001b[0m\n\u001b[1;32m     18\u001b[0m \u001b[0mprint\u001b[0m\u001b[0;34m(\u001b[0m\u001b[0macomodacion_jugador1\u001b[0m\u001b[0;34m(\u001b[0m\u001b[0mtropas_por_territorio\u001b[0m\u001b[0;34m)\u001b[0m\u001b[0;34m)\u001b[0m\u001b[0;34m\u001b[0m\u001b[0;34m\u001b[0m\u001b[0m\n",
      "\u001b[0;31mTypeError\u001b[0m: raw_input() takes from 1 to 2 positional arguments but 3 were given"
     ]
    }
   ],
   "source": [
    "tropas_por_territorio = {\n",
    "    paises[0]: 5,\n",
    "    paises[1]: 5,\n",
    "    paises[2]: 5,\n",
    "    paises[3]: 5,\n",
    "    paises[4]: 5,\n",
    "    paises[5]: 5,\n",
    "    paises[6]: 5,\n",
    "    paises[7]: 5,\n",
    "    paises[8]: 5\n",
    "}\n",
    "\n",
    "def acomodacion_jugador1(tropas_por_territorio):\n",
    "    \n",
    "    for x in range(0,3):\n",
    "        cantidad = input(\"¿Cuantas tropas quieres colocar en:\",)\n",
    "        tropas_por_territorio[paises[tropas]] = int(cantidad)\n",
    "print(acomodacion_jugador1(tropas_por_territorio))"
   ]
  },
  {
   "cell_type": "code",
   "execution_count": null,
   "metadata": {},
   "outputs": [],
   "source": [
    "def ataque()"
   ]
  }
 ],
 "metadata": {
  "kernelspec": {
   "display_name": "Python 3",
   "language": "python",
   "name": "python3"
  },
  "language_info": {
   "codemirror_mode": {
    "name": "ipython",
    "version": 3
   },
   "file_extension": ".py",
   "mimetype": "text/x-python",
   "name": "python",
   "nbconvert_exporter": "python",
   "pygments_lexer": "ipython3",
   "version": "3.7.3"
  }
 },
 "nbformat": 4,
 "nbformat_minor": 2
}
