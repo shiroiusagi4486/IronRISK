{
 "cells": [
  {
   "cell_type": "code",
   "execution_count": 1,
   "metadata": {},
   "outputs": [],
   "source": [
    "import random"
   ]
  },
  {
   "cell_type": "code",
   "execution_count": 28,
   "metadata": {},
   "outputs": [],
   "source": [
    "#Funciones\n",
    "#random paises\n",
    "def Pais_R(paises):\n",
    "    return random.sample(paises, 9)\n",
    "\n",
    "#acomodo de tropas por cada jugador\n",
    "def acomodacion(paisesjugadores, tropas_jugador):\n",
    "    nombre = input(\"hola comandante, dime tu nombre\")\n",
    "    print(\"cuantas tropas quieres para tus territorios debes de colocar de 2 a 5 tropas por territorio\")\n",
    "    print(f\"tienes disponibles {tropas_jugador} tropas, las que no uses serán de reserva\")\n",
    "\n",
    "    for diccionario in paisesjugadores:\n",
    "        diccionario['Dueño'] = nombre\n",
    "        while True:\n",
    "            print(diccionario.get('Nombre'))\n",
    "            total = int(input( ))\n",
    "            if total>=2 and total<=5:\n",
    "                diccionario['Tropas'] = total\n",
    "                tropas_jugador= tropas_jugador - total\n",
    "                break\n",
    "            else:\n",
    "                continue\n",
    "    print(f'tienes {tropas_jugador} de reserva')\n",
    "    print(\"\\n\")\n",
    "    return tropas_jugador\n",
    "\n",
    "#Accion de ataque\n",
    "def conquista(jugador, nombre, paises):\n",
    "    a=\"\"\n",
    "    b=\"\"\n",
    "    agresores = []\n",
    "    victimasL = []\n",
    "    victimas = []\n",
    "    \n",
    "    print(\"Estos son tus paises y sus fonteras, revisa que paises son tuyos, recuerda que no puedes atacar tu propio país.\")\n",
    "    print(\"Si lo haces combatirás contra ti mismo y perderás tropas\")\n",
    "    for diccionario in paises:\n",
    "        if diccionario['Dueño'] == nombre:\n",
    "            print(\"tu pais \", diccionario.get('Nombre'), \"=> fronteras\",diccionario.get('Fronteras'))\n",
    "            agresores.append(diccionario.get('Nombre'))\n",
    "    \n",
    "    while True:\n",
    "        agresor = input(\"¿Desde qué país deseas atacar? \")\n",
    "        if agresor not in agresores:\n",
    "            print(f\"El pais {agresor} no existe\")\n",
    "        else:\n",
    "            break\n",
    "\n",
    "    for diccionarioatacantes in paises:\n",
    "        if diccionarioatacantes[\"Nombre\"] == agresor:\n",
    "            a = diccionarioatacantes\n",
    "            print(\"Las fronteras del agresor son: \",diccionarioatacantes.get('Fronteras'))\n",
    "            victimasL.append(diccionarioatacantes.get('Fronteras'))\n",
    "    \n",
    "    for lista in victimasL:\n",
    "        for presa in lista:\n",
    "            if presa not in victimas:\n",
    "                victimas.append(presa)\n",
    "                \n",
    "    while True:\n",
    "        victima = input(\"¿A que pais deseas atacar? \")\n",
    "        if victima not in victimas:\n",
    "            print(f\"El pais {victima} no existe\")\n",
    "        else:\n",
    "            b=victima\n",
    "            break\n",
    "    for pais in paises:\n",
    "        if pais[\"Nombre\"] == b:\n",
    "            b = pais\n",
    "            \n",
    "    return clash(a,b)\n",
    "\n",
    "#Turnos de los jugadores, se pueden hacer 2 acciones: Atacar y Fortificar\n",
    "def turno(jugador, nombre, paises, reserva):\n",
    "    for movimiento in range(2):\n",
    "        print(f\"{nombre} Tienes 2 movimientos, llevas \", movimiento)\n",
    "        eleccion = input(f\"Escribe tu decisión {nombre} respetando las palabras, atacar o fortificar \")\n",
    "        print()\n",
    "        if eleccion.lower() == \"atacar\":\n",
    "            resultado = conquista(jugador,nombre, paises)\n",
    "        elif eleccion.lower() == \"fortificar\":\n",
    "            resultado = fortificar(jugador,paises, reserva, nombre)\n",
    "        else:\n",
    "            print(f\"{eleccion} no disponible, General has perdido un turno, Muajajajajaja\")\n",
    "\n",
    "    return resultado\n",
    "\n",
    "#El choque y definicion de resultados\n",
    "def clash(a, b):\n",
    "    lanzamiento_A, lanzamiento_B = 0, 0\n",
    "    print(a[\"Nombre\"], a[\"Tropas\"], \" VS \", b[\"Nombre\"], b[\"Tropas\"])\n",
    "    \n",
    "    if a[\"Tropas\"]>=3:\n",
    "        lanzamiento_A =random.randint(3,18)\n",
    "    elif a[\"Tropas\"]>=2:\n",
    "        lanzamiento_A =random.randint(2,12)\n",
    "    else:\n",
    "        lanzamiento_A =random.randint(1, 6)\n",
    "        \n",
    "    if b[\"Tropas\"]>=2:\n",
    "        lanzamiento_B =random.randint(2,12)\n",
    "    else:\n",
    "        lanzamiento_B =random.randint(1, 6)\n",
    "\n",
    "    if lanzamiento_A > lanzamiento_B:\n",
    "        b[\"Tropas\"]-= 1\n",
    "        if b[\"Tropas\"] == 0:\n",
    "            b[\"Tropas\"] = 1\n",
    "            b[\"Dueño\"] = a[\"Dueño\"]\n",
    "            \n",
    "    elif lanzamiento_A < lanzamiento_B:\n",
    "        a[\"Tropas\"]-= 1\n",
    "        if a[\"Tropas\"] == 0:\n",
    "            a[\"Tropas\"] = 1\n",
    "            a[\"Dueño\"] = b[\"Dueño\"]\n",
    "    else:\n",
    "        b[\"Tropas\"]-= 0\n",
    "        a[\"Tropas\"]-= 0\n",
    "        \n",
    "    print(lanzamiento_A, lanzamiento_B)\n",
    "\n",
    "    return a,b\n",
    "\n",
    "#Distribuimos tropas de reserva hasta que se quedan con 0 en reserva\n",
    "def fortificar(jugador, paises, tropas, nombre):\n",
    "    #resultado = fortificar(jugador,paises, reserva, nombre)\n",
    "    print(\"-------------------------------------------Error Bandersnatch-------------------------------------------\")\n",
    "    \n",
    "    a=\"\"\n",
    "\n",
    "    fortificar = []\n",
    "    \n",
    "    print(f\"Estos son tus paises, recuerda que solo puedes usar una de las {tropas} tropas que tienes en reserva y solo puede fortificar un país por turno\")\n",
    "    for diccionario in paises:\n",
    "        if diccionario['Dueño'] == nombre:\n",
    "            print(diccionario.get('Nombre'), \" tiene \",diccionario.get('Tropas') )\n",
    "            fortificar.append(diccionario.get('Nombre'))\n",
    "    \n",
    "    while True:\n",
    "        refuerzo = input(\"A que pais le quieres dar mas tropas\")\n",
    "        if refuerzo not in fortificar:\n",
    "            print(f\"El pais {refuerzo} no existe\")\n",
    "        else:\n",
    "            for diccionario in paises:\n",
    "                if diccionario['Nombre'] == refuerzo:\n",
    "                    print(diccionario.get('Nombre'), \" tiene \",diccionario.get('Tropas'))\n",
    "                    diccionario['Tropas'] += 1\n",
    "                    tropas -= 1\n",
    "                    return diccionario, tropas\n",
    "            break"
   ]
  },
  {
   "cell_type": "code",
   "execution_count": 23,
   "metadata": {},
   "outputs": [],
   "source": []
  },
  {
   "cell_type": "code",
   "execution_count": 21,
   "metadata": {},
   "outputs": [],
   "source": []
  },
  {
   "cell_type": "code",
   "execution_count": 16,
   "metadata": {},
   "outputs": [],
   "source": []
  },
  {
   "cell_type": "code",
   "execution_count": 24,
   "metadata": {},
   "outputs": [],
   "source": []
  },
  {
   "cell_type": "code",
   "execution_count": 29,
   "metadata": {},
   "outputs": [],
   "source": [
    "tropas_jugador1 = 15\n",
    "tropas_jugador2 = 15\n",
    "paises = [\n",
    "    {'Nombre':'Alaska','Continente':'América del norte', 'Fronteras':['Alberta', 'Noreste'], 'Tropas':5, 'Dueño':'John Doe'},\n",
    "    {'Nombre':'Alberta','Continente':'América del norte', 'Fronteras':['Alaska', 'Noreste','Ontario', 'Oeste'], 'Tropas':5, 'Dueño':'John Doe'},\n",
    "    {'Nombre':'Mexico','Continente':'América del norte', 'Fronteras':['Sureste','Oeste'], 'Tropas':5, 'Dueño':'John Doe'},\n",
    "    {'Nombre':'Sureste','Continente':'América del norte', 'Fronteras':['Mexico', 'Ontario','Quebec','Oeste'], 'Tropas':5, 'Dueño':'John Doe'},\n",
    "    {'Nombre':'Groelandia','Continente':'América del norte', 'Fronteras':['Noreste','Ontario', 'Quebec'], 'Tropas':5, 'Dueño':'John Doe'},\n",
    "    {'Nombre':'Noreste','Continente':'América del norte', 'Fronteras':['Alaska', 'Alberta', 'Groelandia', 'Ontario'], 'Tropas':5, 'Dueño':'John Doe'},\n",
    "    {'Nombre':'Ontario','Continente':'América del norte', 'Fronteras':['Noreste','Alberta', 'Oeste','Sureste','Quebec','Groelandia'], 'Tropas':5, 'Dueño':'John Doe'},\n",
    "    {'Nombre':'Quebec','Continente':'América del norte', 'Fronteras':['Sureste', 'Groelandia','Ontario'], 'Tropas':5, 'Dueño':'John Doe'},\n",
    "    {'Nombre':'Oeste','Continente':'América del norte', 'Fronteras':['Alberta', 'Mexico', 'Sureste','Ontario'], 'Tropas':5, 'Dueño':'John Doe'}\n",
    "]\n",
    "\n",
    "#realizamos el random de los paises\n",
    "sorteo = Pais_R(paises)\n",
    "\n",
    "#Rango para division de paises\n",
    "rango = len(sorteo)//3\n",
    "\n",
    "#asignamos los paises a cada jugador y a neutral\n",
    "paises_jugador1 = sorteo[:rango]\n",
    "paises_jugador2 = sorteo[rango:rango+rango]\n",
    "paises_neutral = sorteo[rango+rango:]\n",
    "\n",
    "#acomodamos tropas por jugador y creamos lista de tropas sobrantes\n",
    "sobrantej1 = acomodacion(paises_jugador1, tropas_jugador1)\n",
    "sobrantej2 = acomodacion(paises_jugador2, tropas_jugador2)\n",
    "reserva_tropas = [sobrantej1, sobrantej2]\n",
    "\n",
    "#Ejecutamos turnos de los jugadores\n",
    "turno(paises_jugador1, paises_jugador1[-1].get(\"Dueño\"), paises, reserva_tropas[0])\n",
    "turno(paises_jugador2, paises_jugador2[-1].get(\"Dueño\"), paises, reserva_tropas[1])"
   ]
  },
  {
   "cell_type": "code",
   "execution_count": 30,
   "metadata": {},
   "outputs": [],
   "source": []
  },
  {
   "cell_type": "code",
   "execution_count": 31,
   "metadata": {},
   "outputs": [],
   "source": []
  },
  {
   "cell_type": "code",
   "execution_count": 32,
   "metadata": {},
   "outputs": [
    {
     "name": "stdin",
     "output_type": "stream",
     "text": [
      "hola comandante, dime tu nombre We\n"
     ]
    },
    {
     "name": "stdout",
     "output_type": "stream",
     "text": [
      "cuantas tropas quieres para tus territorios debes de colocar de 2 a 5 tropas por territorio\n",
      "tienes disponibles 15 tropas, las que no uses serán de reserva\n",
      "Sureste\n"
     ]
    },
    {
     "name": "stdin",
     "output_type": "stream",
     "text": [
      " 1\n"
     ]
    },
    {
     "name": "stdout",
     "output_type": "stream",
     "text": [
      "Sureste\n"
     ]
    },
    {
     "name": "stdin",
     "output_type": "stream",
     "text": [
      " 2\n"
     ]
    },
    {
     "name": "stdout",
     "output_type": "stream",
     "text": [
      "Oeste\n"
     ]
    },
    {
     "name": "stdin",
     "output_type": "stream",
     "text": [
      " 4\n"
     ]
    },
    {
     "name": "stdout",
     "output_type": "stream",
     "text": [
      "Noreste\n"
     ]
    },
    {
     "name": "stdin",
     "output_type": "stream",
     "text": [
      " 2\n"
     ]
    },
    {
     "name": "stdout",
     "output_type": "stream",
     "text": [
      "tienes 7 de reserva\n",
      "\n",
      "\n"
     ]
    },
    {
     "name": "stdin",
     "output_type": "stream",
     "text": [
      "hola comandante, dime tu nombre q\n"
     ]
    },
    {
     "name": "stdout",
     "output_type": "stream",
     "text": [
      "cuantas tropas quieres para tus territorios debes de colocar de 2 a 5 tropas por territorio\n",
      "tienes disponibles 15 tropas, las que no uses serán de reserva\n",
      "Ontario\n"
     ]
    },
    {
     "name": "stdin",
     "output_type": "stream",
     "text": [
      " 2\n"
     ]
    },
    {
     "name": "stdout",
     "output_type": "stream",
     "text": [
      "Alberta\n"
     ]
    },
    {
     "name": "stdin",
     "output_type": "stream",
     "text": [
      " 3\n"
     ]
    },
    {
     "name": "stdout",
     "output_type": "stream",
     "text": [
      "Alaska\n"
     ]
    },
    {
     "name": "stdin",
     "output_type": "stream",
     "text": [
      " 4\n"
     ]
    },
    {
     "name": "stdout",
     "output_type": "stream",
     "text": [
      "tienes 6 de reserva\n",
      "\n",
      "\n"
     ]
    }
   ],
   "source": []
  },
  {
   "cell_type": "code",
   "execution_count": 33,
   "metadata": {},
   "outputs": [
    {
     "name": "stdout",
     "output_type": "stream",
     "text": [
      "We Tienes 2 movimientos, llevas  0\n"
     ]
    },
    {
     "name": "stdin",
     "output_type": "stream",
     "text": [
      "Escribe tu decisión We respetando las palabras, atacar o fortificar  Fortificar\n"
     ]
    },
    {
     "name": "stdout",
     "output_type": "stream",
     "text": [
      "\n",
      "-------------------------------------------Error Bandersnatch\n",
      "Estos son tus paises, recuerda que solo puedes usar una de las 7 tropas que tienes en reserva y solo puede fortificar un país por turno\n",
      "Sureste  tiene  2\n",
      "Noreste  tiene  2\n",
      "Oeste  tiene  4\n"
     ]
    },
    {
     "name": "stdin",
     "output_type": "stream",
     "text": [
      "A que pais le quieres dar mas tropas Sureste\n"
     ]
    },
    {
     "name": "stdout",
     "output_type": "stream",
     "text": [
      "Sureste  tiene  2\n",
      "We Tienes 2 movimientos, llevas  1\n"
     ]
    },
    {
     "name": "stdin",
     "output_type": "stream",
     "text": [
      "Escribe tu decisión We respetando las palabras, atacar o fortificar  fortificar\n"
     ]
    },
    {
     "name": "stdout",
     "output_type": "stream",
     "text": [
      "\n",
      "-------------------------------------------Error Bandersnatch\n",
      "Estos son tus paises, recuerda que solo puedes usar una de las 7 tropas que tienes en reserva y solo puede fortificar un país por turno\n",
      "Sureste  tiene  3\n",
      "Noreste  tiene  2\n",
      "Oeste  tiene  4\n"
     ]
    },
    {
     "name": "stdin",
     "output_type": "stream",
     "text": [
      "A que pais le quieres dar mas tropas Oeste\n"
     ]
    },
    {
     "name": "stdout",
     "output_type": "stream",
     "text": [
      "Oeste  tiene  4\n",
      "q Tienes 2 movimientos, llevas  0\n"
     ]
    },
    {
     "name": "stdin",
     "output_type": "stream",
     "text": [
      "Escribe tu decisión q respetando las palabras, atacar o fortificar  fortificar\n"
     ]
    },
    {
     "name": "stdout",
     "output_type": "stream",
     "text": [
      "\n",
      "-------------------------------------------Error Bandersnatch\n",
      "Estos son tus paises, recuerda que solo puedes usar una de las 6 tropas que tienes en reserva y solo puede fortificar un país por turno\n",
      "Alaska  tiene  4\n",
      "Alberta  tiene  3\n",
      "Ontario  tiene  2\n"
     ]
    },
    {
     "name": "stdin",
     "output_type": "stream",
     "text": [
      "A que pais le quieres dar mas tropas Alaska\n"
     ]
    },
    {
     "name": "stdout",
     "output_type": "stream",
     "text": [
      "Alaska  tiene  4\n",
      "q Tienes 2 movimientos, llevas  1\n"
     ]
    },
    {
     "name": "stdin",
     "output_type": "stream",
     "text": [
      "Escribe tu decisión q respetando las palabras, atacar o fortificar  Atacar\n"
     ]
    },
    {
     "name": "stdout",
     "output_type": "stream",
     "text": [
      "\n",
      "Estos son tus paises y sus fonteras, revisa que paises son tuyos, recuerda que no puedes atacar tu propio país.\n",
      "Si lo haces combatirás contra ti mismo y perderás tropas\n",
      "tu pais  Alaska => fronteras ['Alberta', 'Noreste']\n",
      "tu pais  Alberta => fronteras ['Alaska', 'Noreste', 'Ontario', 'Oeste']\n",
      "tu pais  Ontario => fronteras ['Noreste', 'Alberta', 'Oeste', 'Sureste', 'Quebec', 'Groelandia']\n"
     ]
    },
    {
     "name": "stdin",
     "output_type": "stream",
     "text": [
      "¿Desde qué país deseas atacar?  Alberta\n"
     ]
    },
    {
     "name": "stdout",
     "output_type": "stream",
     "text": [
      "Las fronteras del agresor son:  ['Alaska', 'Noreste', 'Ontario', 'Oeste']\n"
     ]
    },
    {
     "name": "stdin",
     "output_type": "stream",
     "text": [
      "¿A que pais deseas atacar?  Alaska\n"
     ]
    },
    {
     "name": "stdout",
     "output_type": "stream",
     "text": [
      "Alberta 3  VS  Alaska 5\n",
      "15 10\n"
     ]
    },
    {
     "data": {
      "text/plain": [
       "({'Nombre': 'Alberta',\n",
       "  'Continente': 'América del norte',\n",
       "  'Fronteras': ['Alaska', 'Noreste', 'Ontario', 'Oeste'],\n",
       "  'Tropas': 3,\n",
       "  'Dueño': 'q'},\n",
       " {'Nombre': 'Alaska',\n",
       "  'Continente': 'América del norte',\n",
       "  'Fronteras': ['Alberta', 'Noreste'],\n",
       "  'Tropas': 4,\n",
       "  'Dueño': 'q'})"
      ]
     },
     "execution_count": 33,
     "metadata": {},
     "output_type": "execute_result"
    }
   ],
   "source": []
  },
  {
   "cell_type": "code",
   "execution_count": 11,
   "metadata": {},
   "outputs": [],
   "source": []
  },
  {
   "cell_type": "code",
   "execution_count": 13,
   "metadata": {},
   "outputs": [
    {
     "name": "stdout",
     "output_type": "stream",
     "text": [
      "[{'Nombre': 'Alaska', 'Continente': 'América del norte', 'Fronteras': ['Alberta', 'Noreste'], 'Tropas': 1, 'Dueño': 'danilo'}, {'Nombre': 'Alberta', 'Continente': 'América del norte', 'Fronteras': ['Alaska', 'Noreste', 'Ontario', 'Oeste'], 'Tropas': 3, 'Dueño': 'Emilio'}, {'Nombre': 'Mexico', 'Continente': 'América del norte', 'Fronteras': ['Sureste', 'Oeste'], 'Tropas': 4, 'Dueño': 'Emilio'}, {'Nombre': 'Sureste', 'Continente': 'América del norte', 'Fronteras': ['Mexico', 'Ontario', 'Quebec', 'Oeste'], 'Tropas': 5, 'Dueño': 'John Doe'}, {'Nombre': 'Groelandia', 'Continente': 'América del norte', 'Fronteras': ['Noreste', 'Ontario', 'Quebec'], 'Tropas': 5, 'Dueño': 'John Doe'}, {'Nombre': 'Noreste', 'Continente': 'América del norte', 'Fronteras': ['Alaska', 'Alberta', 'Groelandia', 'Ontario'], 'Tropas': 2, 'Dueño': 'danilo'}, {'Nombre': 'Ontario', 'Continente': 'América del norte', 'Fronteras': ['Noreste', 'Alberta', 'Oeste', 'Sureste', 'Quebec', 'Groelandia'], 'Tropas': 5, 'Dueño': 'John Doe'}, {'Nombre': 'Quebec', 'Continente': 'América del norte', 'Fronteras': ['Sureste', 'Groelandia', 'Ontario'], 'Tropas': 5, 'Dueño': 'Emilio'}, {'Nombre': 'Oeste', 'Continente': 'América del norte', 'Fronteras': ['Alberta', 'Mexico', 'Sureste', 'Ontario'], 'Tropas': 5, 'Dueño': 'danilo'}]\n"
     ]
    }
   ],
   "source": [
    "print(paises)"
   ]
  },
  {
   "cell_type": "code",
   "execution_count": null,
   "metadata": {},
   "outputs": [],
   "source": []
  }
 ],
 "metadata": {
  "kernelspec": {
   "display_name": "Python 3",
   "language": "python",
   "name": "python3"
  },
  "language_info": {
   "codemirror_mode": {
    "name": "ipython",
    "version": 3
   },
   "file_extension": ".py",
   "mimetype": "text/x-python",
   "name": "python",
   "nbconvert_exporter": "python",
   "pygments_lexer": "ipython3",
   "version": "3.7.0"
  }
 },
 "nbformat": 4,
 "nbformat_minor": 2
}
