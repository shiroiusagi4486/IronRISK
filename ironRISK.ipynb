{
 "cells": [
  {
   "cell_type": "code",
   "execution_count": 1,
   "metadata": {},
   "outputs": [],
   "source": [
    "import random"
   ]
  },
  {
   "cell_type": "code",
   "execution_count": 12,
   "metadata": {},
   "outputs": [],
   "source": [
    "paises = ['Alaska', 'Alberta', 'Mexico', 'Sureste', 'Groelandia', 'Noreste', 'Ontario', 'Quebec','Oeste']"
   ]
  },
  {
   "cell_type": "code",
   "execution_count": 3,
   "metadata": {},
   "outputs": [],
   "source": [
    "def Pais_R(paises):\n",
    "    return random.sample(paises, 9)\n",
    "    "
   ]
  },
  {
   "cell_type": "code",
   "execution_count": 4,
   "metadata": {},
   "outputs": [
    {
     "name": "stdout",
     "output_type": "stream",
     "text": [
      "['Quebec', 'Oeste', 'Mexico', 'Groelandia', 'Alberta', 'Ontario', 'Sureste', 'Noreste', 'Alaska']\n"
     ]
    }
   ],
   "source": [
    "sorteo = Pais_R(paises)\n",
    "print(sorteo)"
   ]
  },
  {
   "cell_type": "code",
   "execution_count": 15,
   "metadata": {},
   "outputs": [],
   "source": [
    "paises_jugador1 = sorteo[:3]\n",
    "paises_jugador2 = sorteo[3:6]\n",
    "paises_neutral = sorteo[6:]"
   ]
  },
  {
   "cell_type": "code",
   "execution_count": 16,
   "metadata": {},
   "outputs": [
    {
     "name": "stdout",
     "output_type": "stream",
     "text": [
      "{'Alaska': ['Alberta', 'Noreste'], 'Alberta': ['Alaska', 'Noreste', 'Ontario', 'Oeste'], 'Mexico': ['Sureste', 'Oeste'], 'Sureste': ['Mexico', 'Ontario', 'Quebec', 'Oeste'], 'Groelandia': ['Noreste', 'Ontario', 'Quebec'], 'Noreste': ['Alaska', 'Alberta', 'Groelandia', 'Ontario'], 'Ontario': ['Alberta', 'Sureste', 'Groelandia', 'Noreste', 'Quebec', 'Oeste'], 'Quebec': ['Sureste', 'Groelandia', 'Ontario'], 'Oeste': ['Alberta', 'Mexico', 'Sureste', 'Ontario']}\n"
     ]
    }
   ],
   "source": [
    "fronteras = {\n",
    "    paises[0]: [paises[1], paises[5]],\n",
    "    paises[1]: [paises[0], paises[5], paises[6], paises[8]],\n",
    "    paises[2]: [paises[3], paises[8]],\n",
    "    paises[3]: [paises[2], paises[6], paises[7], paises[8]],\n",
    "    paises[4]: [paises[5], paises[6], paises[7]],\n",
    "    paises[5]: [paises[0], paises[1], paises[4], paises[6]],\n",
    "    paises[6]: [paises[1], paises[3], paises[4], paises[5], paises[7], paises[8]],\n",
    "    paises[7]: [paises[3], paises[4], paises[6]],\n",
    "    paises[8]: [paises[1], paises[2], paises[3], paises[6]]\n",
    "}\n",
    "print(fronteras)"
   ]
  },
  {
   "cell_type": "code",
   "execution_count": 17,
   "metadata": {},
   "outputs": [],
   "source": [
    "tropas_jugador1 = 15\n",
    "tropas_jugador2 = 15\n",
    "tropas_neutrales = 12"
   ]
  },
  {
   "cell_type": "code",
   "execution_count": null,
   "metadata": {},
   "outputs": [],
   "source": []
  },
  {
   "cell_type": "code",
   "execution_count": 22,
   "metadata": {},
   "outputs": [
    {
     "name": "stdout",
     "output_type": "stream",
     "text": [
      "{'Alaska': 1, 'Alberta': 1, 'Mexico': 1, 'Sureste': 1, 'Groelandia': 1, 'Noreste': 1, 'Ontario': 1, 'Quebec': 1, 'Oeste': 1}\n"
     ]
    }
   ],
   "source": [
    "tropas_por_territorio = {}  \n",
    "for i in range(len(paises)):\n",
    "    tropas_por_territorio[paises[i]]=1\n",
    "\n",
    "\n",
    "    '''paises[0]: 1,\n",
    "    paises[1]: 1,\n",
    "    paises[2]: 1,\n",
    "    paises[3]: 1,\n",
    "    paises[4]: 1,\n",
    "    paises[5]: 1,\n",
    "    paises[6]: 1,\n",
    "    paises[7]: 1,\n",
    "    paises[8]: 1'''\n",
    "\n",
    "print(tropas_por_territorio)\n"
   ]
  },
  {
   "cell_type": "code",
   "execution_count": null,
   "metadata": {},
   "outputs": [],
   "source": [
    "def acomodacion_jugador1(tropas_por_territorio, paises_jugador1):\n",
    "    \n",
    "    for x in range(0,3):\n",
    "        cantidad = input(\"¿Cuantas tropas quieres colocar en: \" + str(paises_jugador1[x]) + \" ?\")\n",
    "        while int(cantidad) < 1 or int(cantidad) > 5:\n",
    "            cantidad = input(\"recuerda que debe haber mínimo 1 y máximo 5 ¿Cuantas tropas quieres colocar en: \" + str(paises_jugador1[x]) + \" ?\")\n",
    "        else:\n",
    "            tropas_por_territorio[paises[x]] = int(cantidad)\n",
    "    return acomodacion_jugador1(tropas_por_territorio, paises_jugador1)\n",
    "\n",
    "print(acomodacion_jugador1(tropas_por_territorio, paises_jugador1))\n",
    "\n"
   ]
  },
  {
   "cell_type": "code",
   "execution_count": null,
   "metadata": {},
   "outputs": [],
   "source": []
  }
 ],
 "metadata": {
  "kernelspec": {
   "display_name": "Python 3",
   "language": "python",
   "name": "python3"
  },
  "language_info": {
   "codemirror_mode": {
    "name": "ipython",
    "version": 3
   },
   "file_extension": ".py",
   "mimetype": "text/x-python",
   "name": "python",
   "nbconvert_exporter": "python",
   "pygments_lexer": "ipython3",
   "version": "3.7.0"
  }
 },
 "nbformat": 4,
 "nbformat_minor": 2
}
